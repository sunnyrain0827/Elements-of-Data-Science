{
 "cells": [
  {
   "cell_type": "markdown",
   "metadata": {},
   "source": [
    "# Homework 2\n",
    "\n",
    "### Due: Sun Oct. 21 @ 9pm"
   ]
  },
  {
   "cell_type": "markdown",
   "metadata": {},
   "source": [
    "In this homework we'll perform a hypothesis test and clean some data before training a regression model.\n",
    "\n",
    "\n",
    "## Instructions\n",
    "\n",
    "Follow the comments below and fill in the blanks (____) to complete."
   ]
  },
  {
   "cell_type": "code",
   "execution_count": 98,
   "metadata": {},
   "outputs": [],
   "source": [
    "import pandas as pd\n",
    "import numpy as np\n",
    "from pprint import pprint\n",
    "import seaborn as sns\n",
    "import sklearn\n",
    "import matplotlib.pylab as plt\n",
    "import math\n",
    "import statistics\n",
    "\n",
    "# To suppress FutureWarnings\n",
    "import warnings\n",
    "warnings.simplefilter(action='ignore', category=FutureWarning)\n",
    "warnings.simplefilter(action='ignore', category=DeprecationWarning)\n",
    "\n",
    "%matplotlib inline"
   ]
  },
  {
   "cell_type": "markdown",
   "metadata": {},
   "source": [
    "## Part 1: Hypothesis Testing with an A/B test"
   ]
  },
  {
   "cell_type": "markdown",
   "metadata": {},
   "source": [
    "Suppose we work at a large company that is developing online data science tools. Currently the tool has interface type A but we'd like to know if using interface tool B might be more efficient.\n",
    "To measure this, we'll look at length of active work on a project (aka project length).\n",
    "We'll perform an A/B test where half of the projects will use interface A and half will use interface B."
   ]
  },
  {
   "cell_type": "code",
   "execution_count": 99,
   "metadata": {},
   "outputs": [
    {
     "name": "stdout",
     "output_type": "stream",
     "text": [
      "<class 'pandas.core.frame.DataFrame'>\n",
      "RangeIndex: 1000 entries, 0 to 999\n",
      "Data columns (total 2 columns):\n",
      "lengths_A    1000 non-null float64\n",
      "lengths_B    1000 non-null float64\n",
      "dtypes: float64(2)\n",
      "memory usage: 15.7 KB\n"
     ]
    },
    {
     "data": {
      "text/html": [
       "<div>\n",
       "<style scoped>\n",
       "    .dataframe tbody tr th:only-of-type {\n",
       "        vertical-align: middle;\n",
       "    }\n",
       "\n",
       "    .dataframe tbody tr th {\n",
       "        vertical-align: top;\n",
       "    }\n",
       "\n",
       "    .dataframe thead th {\n",
       "        text-align: right;\n",
       "    }\n",
       "</style>\n",
       "<table border=\"1\" class=\"dataframe\">\n",
       "  <thead>\n",
       "    <tr style=\"text-align: right;\">\n",
       "      <th></th>\n",
       "      <th>lengths_A</th>\n",
       "      <th>lengths_B</th>\n",
       "    </tr>\n",
       "  </thead>\n",
       "  <tbody>\n",
       "    <tr>\n",
       "      <th>0</th>\n",
       "      <td>5.191470</td>\n",
       "      <td>4.038233</td>\n",
       "    </tr>\n",
       "    <tr>\n",
       "      <th>1</th>\n",
       "      <td>3.265106</td>\n",
       "      <td>11.055010</td>\n",
       "    </tr>\n",
       "    <tr>\n",
       "      <th>2</th>\n",
       "      <td>50.170632</td>\n",
       "      <td>3.542817</td>\n",
       "    </tr>\n",
       "    <tr>\n",
       "      <th>3</th>\n",
       "      <td>3.411306</td>\n",
       "      <td>48.874282</td>\n",
       "    </tr>\n",
       "    <tr>\n",
       "      <th>4</th>\n",
       "      <td>39.300082</td>\n",
       "      <td>3.771299</td>\n",
       "    </tr>\n",
       "  </tbody>\n",
       "</table>\n",
       "</div>"
      ],
      "text/plain": [
       "   lengths_A  lengths_B\n",
       "0   5.191470   4.038233\n",
       "1   3.265106  11.055010\n",
       "2  50.170632   3.542817\n",
       "3   3.411306  48.874282\n",
       "4  39.300082   3.771299"
      ]
     },
     "execution_count": 99,
     "metadata": {},
     "output_type": "execute_result"
    }
   ],
   "source": [
    "# read in project lengths from '../data/project_lengths'\n",
    "# there should be 1000 observations for both interfaces\n",
    "df_project = pd.read_csv('/Users/rainsunny/Desktop/COMSW4995_007_2018_3/data/project_lengths.csv')\n",
    "df_project.info()\n",
    "df_project.head()"
   ]
  },
  {
   "cell_type": "code",
   "execution_count": 100,
   "metadata": {},
   "outputs": [
    {
     "data": {
      "text/plain": [
       "-1.5819526645395978"
      ]
     },
     "execution_count": 100,
     "metadata": {},
     "output_type": "execute_result"
    }
   ],
   "source": [
    "# calculate the difference in mean project length between interface A and B\n",
    "# for consistency, subtracting A from B\n",
    "# hint: this number should be negative here (could interpret as faster)\n",
    "mean_A = df_project['lengths_A'].mean()\n",
    "mean_B = df_project['lengths_B'].mean()\n",
    "observed_mean_diff = mean_B - mean_A\n",
    "observed_mean_diff"
   ]
  },
  {
   "cell_type": "code",
   "execution_count": 101,
   "metadata": {},
   "outputs": [],
   "source": [
    "# we'll perform a permutation test to see how significant this result is\n",
    "# generate 10000 random permutation samples of mean difference\n",
    "# hint: use np.random.permutation\n",
    "rand_mean_diffs = []\n",
    "n_samples = 10000\n",
    "combined_times = np.concatenate([df_project.lengths_A.values, df_project.lengths_B.values])\n",
    "n_A = len(df_project.loc[:,'lengths_A']) # number of observations for page A\n",
    "for i in range(n_samples):\n",
    "    rand_perm = np.random.permutation(combined_times)\n",
    "    rand_mean_A = rand_perm[:n_A].mean()\n",
    "    rand_mean_B = rand_perm[n_A:].mean()\n",
    "    rand_mean_diffs.append(rand_mean_B-rand_mean_A)"
   ]
  },
  {
   "cell_type": "code",
   "execution_count": 102,
   "metadata": {},
   "outputs": [
    {
     "data": {
      "image/png": "[encoded data removed]",
      "text/plain": [
       "<Figure size 432x288 with 1 Axes>"
      ]
     },
     "metadata": {
      "needs_background": "light"
     },
     "output_type": "display_data"
    }
   ],
   "source": [
    "# use seaborn to plot the distribution of mean differences\n",
    "# use plt.vlines to plot a line at our observed difference in means (ymin=0,ymax=0.5)\n",
    "ax = sns.distplot(rand_mean_diffs, norm_hist=False, kde=False)\n",
    "_ = plt.vlines(observed_mean_diff, *ax.get_ylim(), color='r')"
   ]
  },
  {
   "cell_type": "code",
   "execution_count": 103,
   "metadata": {},
   "outputs": [
    {
     "data": {
      "text/plain": [
       "0.9795"
      ]
     },
     "execution_count": 103,
     "metadata": {},
     "output_type": "execute_result"
    }
   ],
   "source": [
    "# the plot should seem to indicate significance, but let's calculate a one-tailed p_value using rand_mean_diffs\n",
    "p_value = sum(np.array(rand_mean_diffs) >= observed_mean_diff)/ len(rand_mean_diffs)\n",
    "p_value"
   ]
  },
  {
   "cell_type": "code",
   "execution_count": 104,
   "metadata": {},
   "outputs": [
    {
     "data": {
      "text/plain": [
       "0.0903556065848877"
      ]
     },
     "execution_count": 104,
     "metadata": {},
     "output_type": "execute_result"
    }
   ],
   "source": [
    "# we can calculate the effect size of our observation\n",
    "# this is the absolute value of the observed_mean_diff divided by the standard deviation of the combined_times\n",
    "observed_effect_size = abs(observed_mean_diff)/statistics.stdev(combined_times)\n",
    "observed_effect_size"
   ]
  },
  {
   "cell_type": "code",
   "execution_count": 105,
   "metadata": {},
   "outputs": [],
   "source": [
    "# we'll use this for the next 2 steps\n",
    "from statsmodels.stats.power import tt_ind_solve_power"
   ]
  },
  {
   "cell_type": "code",
   "execution_count": 106,
   "metadata": {},
   "outputs": [
    {
     "data": {
      "text/plain": [
       "0.5237486906601911"
      ]
     },
     "execution_count": 106,
     "metadata": {},
     "output_type": "execute_result"
    }
   ],
   "source": [
    "# what is the power of our current experiment?\n",
    "# e.g. how likely is it that correctly decided that B is better than A \n",
    "#   given the observed effect size, number of observations and alpha level we used above\n",
    "# since these are independent samples we can use tt_ind_solve_power\n",
    "# hint: the power we get should not be good\n",
    "power = tt_ind_solve_power(effect_size = observed_effect_size,  # what we just calculated\n",
    "                           nobs1 = n_A,         # the number of observations in A\n",
    "                           alpha = 0.05,        # our alpha level\n",
    "                           power = None,        # what we're interested in\n",
    "                           ratio = 1            # the ratio of number of observations of A and B\n",
    "                          )\n",
    "power"
   ]
  },
  {
   "cell_type": "code",
   "execution_count": 107,
   "metadata": {},
   "outputs": [
    {
     "data": {
      "text/plain": [
       "2575.0041335595133"
      ]
     },
     "execution_count": 107,
     "metadata": {},
     "output_type": "execute_result"
    }
   ],
   "source": [
    "# how many observations for each of A and B would we need to get a power of .9\n",
    "#   for our observed effect size and alpha level\n",
    "# eg. having a 90% change of correctly deciding B is better than A\n",
    "n_obs_A = tt_ind_solve_power(effect_size = observed_effect_size,\n",
    "                             nobs1 = None,\n",
    "                             alpha = 0.05,\n",
    "                             power = 0.9,\n",
    "                             ratio = 1\n",
    "                            )\n",
    "n_obs_A"
   ]
  },
  {
   "cell_type": "markdown",
   "metadata": {},
   "source": [
    "## Part 2: Data Cleaning and Regression"
   ]
  },
  {
   "cell_type": "markdown",
   "metadata": {},
   "source": [
    "### Data Preparation and Exploration"
   ]
  },
  {
   "cell_type": "markdown",
   "metadata": {},
   "source": [
    "This data is provided by World Bank Open Data https://data.worldbank.org/, processed as in Homework 1.\n",
    "\n",
    "We will be performing regression with respect to GDP and classification with respect to Income Group.\n",
    "To do that we will first need to do a little more data prep."
   ]
  },
  {
   "cell_type": "code",
   "execution_count": 108,
   "metadata": {},
   "outputs": [
    {
     "name": "stdout",
     "output_type": "stream",
     "text": [
      "<class 'pandas.core.frame.DataFrame'>\n",
      "RangeIndex: 217 entries, 0 to 216\n",
      "Data columns (total 15 columns):\n",
      "country_code                           217 non-null object\n",
      "short_name                             217 non-null object\n",
      "region                                 217 non-null object\n",
      "income_group                           217 non-null object\n",
      "access_to_electricity                  217 non-null float64\n",
      "gdp                                    193 non-null float64\n",
      "population_density                     215 non-null float64\n",
      "population_total                       216 non-null float64\n",
      "unemployment                           113 non-null float64\n",
      "region_europe                          217 non-null int64\n",
      "region_latin_america_and_caribbean     217 non-null int64\n",
      "region_middle_east_and_north_africa    217 non-null int64\n",
      "region_north_america                   217 non-null int64\n",
      "region_south_asia                      217 non-null int64\n",
      "region_subsaharan_africa               217 non-null int64\n",
      "dtypes: float64(5), int64(6), object(4)\n",
      "memory usage: 25.5+ KB\n"
     ]
    }
   ],
   "source": [
    "# read in the data\n",
    "df_country = pd.read_csv('/Users/rainsunny/Desktop/COMSW4995_007_2018_3/data/country_electricity_by_region.csv')\n",
    "\n",
    "# rename columns for ease of reference\n",
    "columns = ['country_code','short_name','region','income_group','access_to_electricity','gdp','population_density',\n",
    "           'population_total','unemployment','region_europe','region_latin_america_and_caribbean',\n",
    "           'region_middle_east_and_north_africa','region_north_america','region_south_asia',\n",
    "           'region_subsaharan_africa']\n",
    "\n",
    "df_country.columns = columns\n",
    "df_country.info()"
   ]
  },
  {
   "cell_type": "code",
   "execution_count": 109,
   "metadata": {},
   "outputs": [],
   "source": [
    "# create a dummy variable 'gdp_missing' to indicate where 'gdp' is null\n",
    "df_country['gdp_missing'] = df_country.gdp.isnull()"
   ]
  },
  {
   "cell_type": "code",
   "execution_count": 110,
   "metadata": {},
   "outputs": [
    {
     "data": {
      "text/plain": [
       "income_group\n",
       "High income            18\n",
       "Low income              3\n",
       "Lower middle income     1\n",
       "Upper middle income     2\n",
       "Name: gdp, dtype: int64"
      ]
     },
     "execution_count": 110,
     "metadata": {},
     "output_type": "execute_result"
    }
   ],
   "source": [
    "# use groupby to find the number of missing gpd by income_level\n",
    "# write a lambda function to apply to the grouped data, counting the number of nulls per group\n",
    "df_country.groupby('income_group').gdp.apply(lambda x: sum(x.isnull()))"
   ]
  },
  {
   "cell_type": "code",
   "execution_count": 111,
   "metadata": {},
   "outputs": [],
   "source": [
    "# fill in missing gdp values according to income_group mean\n",
    "# to do this, group by income_group \n",
    "# then apply a lambda function to the gdp column that uses the fillna function, filling with the mean\n",
    "# inplace is not available here, so assign back into the gdp column\n",
    "df_country.gdp = df_country.groupby('income_group').gdp.apply(lambda x: x.fillna(x.mean()))"
   ]
  },
  {
   "cell_type": "code",
   "execution_count": 112,
   "metadata": {},
   "outputs": [],
   "source": [
    "# assert that there are no longer any missing values in gdp\n",
    "assert len(df_country['gdp_missing']) == len(df_country['gdp'])"
   ]
  },
  {
   "cell_type": "code",
   "execution_count": 113,
   "metadata": {},
   "outputs": [],
   "source": [
    "# create 'populiation_density_missing' dummy variable\n",
    "df_country['population_density_missing'] = df_country.population_density.isnull()"
   ]
  },
  {
   "cell_type": "code",
   "execution_count": 114,
   "metadata": {},
   "outputs": [],
   "source": [
    "# fill in missing population_density with median, grouping by region\n",
    "df_country.population_density = df_country.groupby('region').population_density.apply(lambda x: x.fillna(x.median()))"
   ]
  },
  {
   "cell_type": "code",
   "execution_count": 115,
   "metadata": {},
   "outputs": [],
   "source": [
    "# create a normalized 'gdp_zscore' column\n",
    "from sklearn import preprocessing\n",
    "#df_country['gdp_zscore'] = pd.DataFrame(preprocessing.MinMaxScaler().fit_transform(df_country[['gdp']].values.astype(float)))\n",
    "df_country['gdp_zscore'] = (df_country.gdp-np.mean(df_country.gdp))/np.std(df_country.gdp)"
   ]
  },
  {
   "cell_type": "code",
   "execution_count": 116,
   "metadata": {},
   "outputs": [
    {
     "data": {
      "image/png": "[encoded data removed]",
      "text/plain": [
       "<Figure size 864x288 with 2 Axes>"
      ]
     },
     "metadata": {
      "needs_background": "light"
     },
     "output_type": "display_data"
    }
   ],
   "source": [
    "# use seaborn to create a distplot (with rugplot indicators) and a boxplot of gdp_zscores to visualize outliers\n",
    "fig, ax = plt.subplots(1,2,figsize=(12,4))\n",
    "_ = sns.distplot(df_country['gdp_zscore'], kde=False, rug=True,ax=ax[0])\n",
    "_ = sns.boxplot(df_country['gdp_zscore'],ax=ax[1]) "
   ]
  },
  {
   "cell_type": "code",
   "execution_count": 122,
   "metadata": {},
   "outputs": [
    {
     "data": {
      "text/plain": [
       "(203    USA\n",
       " 36     CHN\n",
       " 98     JPN\n",
       " 50     DEU\n",
       " 64     FRA\n",
       " 68     GBR\n",
       " 26     BRA\n",
       " 89     IND\n",
       " 95     ITA\n",
       " 32     CAN\n",
       " Name: country_code, dtype: object, 203    11.552402\n",
       " 36      5.807531\n",
       " 98      4.035723\n",
       " 50      2.365951\n",
       " 64      1.717156\n",
       " 68      1.626685\n",
       " 26      1.479186\n",
       " 89      1.264916\n",
       " 95      1.201040\n",
       " 32      1.007785\n",
       " Name: gdp_zscore, dtype: float64)"
      ]
     },
     "execution_count": 122,
     "metadata": {},
     "output_type": "execute_result"
    }
   ],
   "source": [
    "# print the top 10 country_code and gdp_zscore sorted by gdp_zscore\n",
    "#print('The top 10 country_code and gdp_zscore are {} and {}'.format(df_country.sort_values('gdp_zscore',ascending=True).head(10).country_code,df_country.sort_values('gdp_zscore',ascending=True).head(10).gdp_zscore))\n",
    "df_country.sort_values('gdp_zscore',ascending=False).head(10).country_code, df_country.sort_values('gdp_zscore',ascending=False).head(10).gdp_zscore\n"
   ]
  },
  {
   "cell_type": "code",
   "execution_count": 127,
   "metadata": {},
   "outputs": [
    {
     "data": {
      "text/plain": [
       "[5.807531167773423, 2.3659507786737723, 4.035722917421101, 11.55240229646131]"
      ]
     },
     "execution_count": 127,
     "metadata": {},
     "output_type": "execute_result"
    }
   ],
   "source": [
    "# set a zscore cutoff to remove the top 4 outliers\n",
    "gdp_zscore_cutoff = [x for x in df_country.gdp_zscore if (x>1.8)]\n",
    "#gdp_zscore_cutoff = np.array(df_country.gdp_zscore)[(df_country.gdp_zscore<=np.percentile(df_country.gdp_zscore,95))]\n",
    "gdp_zscore_cutoff"
   ]
  },
  {
   "cell_type": "code",
   "execution_count": 119,
   "metadata": {},
   "outputs": [],
   "source": [
    "# create a normalized 'population_density_zscore' column\n",
    "#df_country['population_density_zscore'] = pd.DataFrame(preprocessing.MinMaxScaler().fit_transform(df_country[['population_density']].values.astype(float)))\n",
    "df_country['population_density_zscore'] = (df_country.population_density-np.mean(df_country.population_density))/np.std(df_country.population_density)"
   ]
  },
  {
   "cell_type": "code",
   "execution_count": 128,
   "metadata": {},
   "outputs": [
    {
     "data": {
      "text/plain": [
       "(118    MAC\n",
       " 121    MCO\n",
       " 170    SGP\n",
       " 82     HKG\n",
       " 71     GIB\n",
       " 19     BHR\n",
       " 124    MDV\n",
       " 129    MLT\n",
       " 24     BMU\n",
       " 17     BGD\n",
       " Name: country_code, dtype: object, 118    9.660487\n",
       " 121    9.474560\n",
       " 170    3.703655\n",
       " 82     3.287870\n",
       " 71     1.512029\n",
       " 19     0.662775\n",
       " 124    0.461115\n",
       " 129    0.460529\n",
       " 24     0.443888\n",
       " 17     0.404138\n",
       " Name: population_density_zscore, dtype: float64)"
      ]
     },
     "execution_count": 128,
     "metadata": {},
     "output_type": "execute_result"
    }
   ],
   "source": [
    "# print the top 10 country_code and population_density_zscore sorted by population_density_zscore\n",
    "df_country.sort_values('population_density_zscore',ascending=False).head(10).country_code, df_country.sort_values('population_density_zscore',ascending=False).head(10).population_density_zscore\n"
   ]
  },
  {
   "cell_type": "code",
   "execution_count": 133,
   "metadata": {},
   "outputs": [],
   "source": [
    "# set a zscore cutoff to remove the top 5 outliers\n",
    "population_density_zscore_cutoff = [x for x in df_country.population_density_zscore if (x>1)]"
   ]
  },
  {
   "cell_type": "code",
   "execution_count": 134,
   "metadata": {},
   "outputs": [
    {
     "ename": "SyntaxError",
     "evalue": "invalid syntax (<ipython-input-134-b207a175cc57>, line 2)",
     "output_type": "error",
     "traceback": [
      "\u001b[0;36m  File \u001b[0;32m\"<ipython-input-134-b207a175cc57>\"\u001b[0;36m, line \u001b[0;32m2\u001b[0m\n\u001b[0;31m    df_country = df_country[(x for x in df_country.gdp_zscore if not in gdp_zscore_cutoff) & (x for x in df_country.population_density_zscore if not in population_density_zscore_cutoff)]\u001b[0m\n\u001b[0m                                                                      ^\u001b[0m\n\u001b[0;31mSyntaxError\u001b[0m\u001b[0;31m:\u001b[0m invalid syntax\n"
     ]
    }
   ],
   "source": [
    "# drop outliers (considering both gdp_zscore and population_density_zscore)\n",
    "df_country = df_country[(x for x in df_country.gdp_zscore if not in gdp_zscore_cutoff) & (x for x in df_country.population_density_zscore if not in population_density_zscore_cutoff)]\n",
    "df_country.shape"
   ]
  },
  {
   "cell_type": "markdown",
   "metadata": {},
   "source": [
    "### Train a Regression Model"
   ]
  },
  {
   "cell_type": "code",
   "execution_count": null,
   "metadata": {},
   "outputs": [],
   "source": [
    "# create the training set of X with features (population_density, access_to_electricity) \n",
    "# and labels y (gdp)\n",
    "X = df_country[['population_density','access_to_electricity']]\n",
    "y = df_country['gdp']"
   ]
  },
  {
   "cell_type": "code",
   "execution_count": null,
   "metadata": {},
   "outputs": [],
   "source": [
    "# import and initialize a LinearRegression model using default parameters\n",
    "from sklearn.linear_model import LinearRegression\n",
    "lr = LinearRegression()"
   ]
  },
  {
   "cell_type": "code",
   "execution_count": null,
   "metadata": {},
   "outputs": [],
   "source": [
    "# train the regressor on X and y\n",
    "lr.fit(X,y)"
   ]
  },
  {
   "cell_type": "code",
   "execution_count": null,
   "metadata": {},
   "outputs": [],
   "source": [
    "# print out the learned intercept and coefficients\n",
    "print('beta_0 = {:0.3f}'.format(lr.intercept_))\n",
    "print('beta_1 = {:0.3f}'.format(lr.coef_[0]))\n",
    "print('beta_2 = {:0.3f}'.format(lr.coef_[1]))"
   ]
  },
  {
   "cell_type": "code",
   "execution_count": null,
   "metadata": {},
   "outputs": [],
   "source": [
    "# we can use this mask to easily index into our dataset\n",
    "country_mask = (df_country.country_code == 'CAN').values\n",
    "df_country[country_mask]"
   ]
  },
  {
   "cell_type": "code",
   "execution_count": null,
   "metadata": {},
   "outputs": [],
   "source": [
    "# how far off is our model's prediction for Canada's gdp (country_code CAN) from it's actual gdp?\n",
    "df_country[country_mask]['gdp']  - lr.predict(df_country[country_mask][['population_density','access_to_electricity']])"
   ]
  },
  {
   "cell_type": "code",
   "execution_count": null,
   "metadata": {},
   "outputs": [],
   "source": [
    "# create a new training set X that, in addition to population_density and access_to_electricity,\n",
    "# also includes the region_* dummies\n",
    "X = df_country[['population_density','access_to_electricity','region_europe','region_latin_america_and_caribbean',\n",
    "           'region_middle_east_and_north_africa','region_north_america','region_south_asia',\n",
    "           'region_subsaharan_africa']].values"
   ]
  },
  {
   "cell_type": "code",
   "execution_count": null,
   "metadata": {},
   "outputs": [],
   "source": [
    "# instantiate a new model and train, with fit_intercept=False\n",
    "regr = LinearRegression(fit_intercept=False)\n",
    "regr.fit(X,y)"
   ]
  },
  {
   "cell_type": "code",
   "execution_count": null,
   "metadata": {},
   "outputs": [],
   "source": [
    "# did the prediction for CAN improve?\n",
    "np.abs(df_country[country_mask]['gdp']  - regr.predict(df_country[country_mask][['population_density','access_to_electricity','region_europe','region_latin_america_and_caribbean',\n",
    "           'region_middle_east_and_north_africa','region_north_america','region_south_asia',\n",
    "           'region_subsaharan_africa']]))\n",
    "print('The prediction does not improve.')"
   ]
  },
  {
   "cell_type": "code",
   "execution_count": null,
   "metadata": {},
   "outputs": [],
   "source": []
  }
 ],
 "metadata": {
  "kernelspec": {
   "display_name": "coms007",
   "language": "python",
   "name": "coms007"
  },
  "language_info": {
   "codemirror_mode": {
    "name": "ipython",
    "version": 3
   },
   "file_extension": ".py",
   "mimetype": "text/x-python",
   "name": "python",
   "nbconvert_exporter": "python",
   "pygments_lexer": "ipython3",
   "version": "3.6.5"
  }
 },
 "nbformat": 4,
 "nbformat_minor": 2
}
